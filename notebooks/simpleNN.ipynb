{
 "cells": [
  {
   "cell_type": "markdown",
   "metadata": {},
   "source": [
    "# Function derivative interactive notebook\n",
    "This notebook has been designed to demonstrate how the derivative of a function can be ploted in order to show how the slope behave in relation to the increasing or decreasing values of a function.\n",
    "This information is especially useful when one is learning how neural networks works."
   ]
  },
  {
   "cell_type": "markdown",
   "metadata": {},
   "source": [
    "## Importing libraries"
   ]
  },
  {
   "cell_type": "code",
   "execution_count": 1,
   "metadata": {},
   "outputs": [],
   "source": [
    "import os # Enables Operational System integration\n",
    "import math # Some math stuff\n",
    "import numpy as np # Enables more advanced math tricks and simplify array manipulations\n",
    "from ipywidgets import interact # Enables interaction\n",
    "import matplotlib.pyplot as plt # Enables the ploting"
   ]
  },
  {
   "cell_type": "markdown",
   "metadata": {},
   "source": [
    "## Enables interactivity"
   ]
  },
  {
   "cell_type": "code",
   "execution_count": 2,
   "metadata": {},
   "outputs": [],
   "source": [
    "# Enables interactivity\n",
    "%matplotlib inline"
   ]
  },
  {
   "cell_type": "markdown",
   "metadata": {},
   "source": [
    "## Activation functions\n",
    "The code below defines the activation functions and its respectively derivatives. In the context of the neural networks this functions are called activation functions.\n",
    "For more functions like that visit: https://en.wikipedia.org/wiki/Activation_function#Table_of_activation_functions"
   ]
  },
  {
   "cell_type": "markdown",
   "metadata": {},
   "source": [
    "- Creates a list of activation functions and its derivatives"
   ]
  },
  {
   "cell_type": "code",
   "execution_count": 3,
   "metadata": {},
   "outputs": [],
   "source": [
    "activations = []"
   ]
  },
  {
   "cell_type": "code",
   "execution_count": 4,
   "metadata": {
    "tags": []
   },
   "outputs": [],
   "source": [
    "\"\"\"\n",
    "Some activations function and its respectives derivatives.\n",
    "Source: https://en.wikipedia.org/wiki/Activation_function#Table_of_activation_functions\n",
    "\"\"\"\n",
    "\n",
    "############# Sigmoid ############\n",
    "def sigmoid(x):\n",
    "    return 1.0/(1.0 + math.e**(-x))\n",
    "\n",
    "def sigmoidD(x): \n",
    "    y = sigmoid(x)\n",
    "    return y * (1.0 - y)\n",
    "\n",
    "activations.append(('sigmoid',[sigmoid, sigmoidD]))\n",
    "\n",
    "\n",
    "############# Step ############\n",
    "def step(x):\n",
    "    return np.heaviside(x, 0)\n",
    "\n",
    "def stepD(x):\n",
    "    # This subfunction is used to\n",
    "    # modify regular numbers or\n",
    "    # numpy arrays\n",
    "    def f(a):\n",
    "        if a != 0:\n",
    "            return 0.0\n",
    "        else:\n",
    "            return np.NAN\n",
    "    \n",
    "    # Checks if we are using an array\n",
    "    # or an regular number\n",
    "    if type(x) == np.ndarray:\n",
    "        # array\n",
    "        return np.array(list(map(f, x)))\n",
    "    else:\n",
    "        # regular number \n",
    "        return f(x)\n",
    "\n",
    "    \n",
    "activations.append(('step',[step, stepD]))\n",
    "\n",
    "\n",
    "############# Relu ############\n",
    "def relu(x):\n",
    "    # Checks if we are using an array\n",
    "    # or an regular number\n",
    "    if type(x) == np.ndarray:\n",
    "        # array\n",
    "        return np.fmax(x,0)\n",
    "    else:\n",
    "        # regular number \n",
    "        return max(x,0)\n",
    "\n",
    "\n",
    "def reluD(x):\n",
    "    # Checks if we are using an array\n",
    "    # or an regular number\n",
    "    if type(x) == np.ndarray:\n",
    "        # array\n",
    "        return np.heaviside(x, 1)\n",
    "    else:\n",
    "        # regular number \n",
    "        return 0 if x < 0 else 1\n",
    "\n",
    "    \n",
    "activations.append(('relu',[relu, reluD]))\n",
    "\n",
    "\n",
    "############# Hiperbolic tangent ############\n",
    "def hiperbolicTangent(x):\n",
    "    y1 = math.e**(x)\n",
    "    y2 = math.e**(-x)\n",
    "    return (y1 - y2) / (y1 + y2)\n",
    "\n",
    "def hiperbolicTangentD(x):\n",
    "    return 1 - hiperbolicTangent(x)**2\n",
    "\n",
    "activations.append(('hiperbolic tangent',[hiperbolicTangent, hiperbolicTangentD]))\n",
    "\n",
    "\n",
    "############# Softplus ############\n",
    "def softplus(x):\n",
    "    return np.log(1 + math.e**x)\n",
    "\n",
    "def softplusD(x):\n",
    "    return 1.0/(1.0 + math.e**(-x))\n",
    "\n",
    "activations.append(('softplus',[softplus, softplusD]))\n",
    "\n",
    "\n",
    "############# Leaky relu ############\n",
    "def leakyRelu(x):\n",
    "    # This subfunction is used to\n",
    "    # modify regular numbers or\n",
    "    # numpy arrays\n",
    "    def f(a):\n",
    "        if a < 0:\n",
    "            return 0.01 * a\n",
    "        else:\n",
    "            return a\n",
    "    \n",
    "    # Checks if we are using an array\n",
    "    # or an regular number\n",
    "    if type(x) == np.ndarray:\n",
    "        # array\n",
    "        return np.array(list(map(f, x)))\n",
    "    else:\n",
    "        # regular number \n",
    "        return f(x)\n",
    "\n",
    "    \n",
    "def leakyReluD(x):\n",
    "    # This subfunction is used to\n",
    "    # modify regular numbers or\n",
    "    # numpy arrays\n",
    "    def f(a):\n",
    "        if a < 0:\n",
    "            return 0.01\n",
    "        else:\n",
    "            return 1\n",
    "    \n",
    "    # Checks if we are using an array\n",
    "    # or an regular number\n",
    "    if type(x) == np.ndarray:\n",
    "        # array\n",
    "        return np.array(list(map(f, x)))\n",
    "    else:\n",
    "        # regular number \n",
    "        return f(x)\n",
    "    \n",
    "activations.append(('leaky relu',[leakyRelu, leakyReluD]))\n",
    "\n",
    "\n",
    "############# Silu ############\n",
    "def silu(x):\n",
    "    return x/(1.0 + math.e**(-x))\n",
    "\n",
    "def siluD(x):\n",
    "    return (\n",
    "        (1 + math.e**(-x))\n",
    "        +\n",
    "        (x * math.e**(-x))\n",
    "    )/(\n",
    "        (1 + math.e**(-x))**2\n",
    "      )\n",
    "\n",
    "activations.append(('silu',[silu, siluD]))\n",
    "\n",
    "############# Not an activation function ############\n",
    "def nactf(x):\n",
    "    return 1+(x-1)**2\n",
    "\n",
    "def nactfD(x):\n",
    "    return 2*x-2\n",
    "\n",
    "activations.append(('Not an activation function',[nactf, nactfD]))"
   ]
  },
  {
   "cell_type": "markdown",
   "metadata": {},
   "source": [
    "## Plotting parameters and function"
   ]
  },
  {
   "cell_type": "markdown",
   "metadata": {},
   "source": [
    "- Makes the plot bigger"
   ]
  },
  {
   "cell_type": "code",
   "execution_count": 5,
   "metadata": {},
   "outputs": [],
   "source": [
    "plt.rcParams[\"figure.figsize\"] = (5,5)"
   ]
  },
  {
   "cell_type": "markdown",
   "metadata": {},
   "source": [
    "- Plotting function"
   ]
  },
  {
   "cell_type": "code",
   "execution_count": 6,
   "metadata": {},
   "outputs": [],
   "source": [
    "# Used to redraw the plot\n",
    "def plotNeuron(x = 0.0, lowerBound = -10, upperBound = 10, resolution=100, func = activations[0]):\n",
    "    f = func[0]\n",
    "    slopef = func[1]\n",
    "    \n",
    "    # evaluation of the function\n",
    "    y = f(x) # Evaluate function on point x\n",
    "    \n",
    "    xrange = np.linspace(lowerBound, upperBound, resolution) # Define the range of the plot\n",
    "    yrange = f(xrange) # Evaluate the function on all plot points\n",
    "\n",
    "    # This is an interesting approach on how to derive a function\n",
    "    # pretty clever! That is why this is still here\n",
    "    # h = 0.000000000001\n",
    "    # slope = (f(x+h)-f(x))/h # the tangent curve's angular coefficient\n",
    "\n",
    "    slope = slopef(x) # the tangent curve's angular coefficient\n",
    "    tangentY = y+slope*(xrange-x)  # tangent curve Ys\n",
    "\n",
    "    # Define the boundaries of the plot\n",
    "    plt.ylim([f(lowerBound) - 0.2, f(upperBound) + 0.2])\n",
    "    plt.xlim([lowerBound, upperBound])\n",
    "    \n",
    "    # Plot the curve\n",
    "    plt.plot(xrange, yrange)\n",
    "    \n",
    "    # Plot the tangent line\n",
    "    plt.plot(xrange, tangentY, 'C1--', linewidth = 2)\n",
    "    \n",
    "    # Plot the vertical line, dot and label\n",
    "    plt.axvline(x, color = 'c')\n",
    "    plt.scatter(x, y, color='C1', s=50)\n",
    "    plt.annotate('x:{:04.2f}, y:{:04.2f} -> slope:{:04.2f}'.format(x, y, slope), (lowerBound, f(upperBound) + 0.2))\n",
    "    plt.grid()\n",
    "    \n",
    "    plt.show()"
   ]
  },
  {
   "cell_type": "markdown",
   "metadata": {},
   "source": [
    "## Finally, this one enables the interaction"
   ]
  },
  {
   "cell_type": "code",
   "execution_count": 7,
   "metadata": {},
   "outputs": [
    {
     "data": {
      "application/vnd.jupyter.widget-view+json": {
       "model_id": "d6dc769fe5b94819a5abfb440f1808df",
       "version_major": 2,
       "version_minor": 0
      },
      "text/plain": [
       "interactive(children=(FloatSlider(value=0.0, description='x', max=10.0, min=-10.0, step=1e-05), IntSlider(valu…"
      ]
     },
     "metadata": {},
     "output_type": "display_data"
    },
    {
     "data": {
      "text/plain": [
       "<function __main__.plotNeuron(x=0.0, lowerBound=-10, upperBound=10, resolution=100, func=('sigmoid', [<function sigmoid at 0x7f8debe55b20>, <function sigmoidD at 0x7f8debe55bc0>]))>"
      ]
     },
     "execution_count": 7,
     "metadata": {},
     "output_type": "execute_result"
    }
   ],
   "source": [
    "interact(plotNeuron, x=(-10.0, 10.0, 0.00001),func=activations)"
   ]
  },
  {
   "cell_type": "code",
   "execution_count": 8,
   "metadata": {},
   "outputs": [],
   "source": [
    "def test(x,y):\n",
    "    return x**2 + y**2\n",
    "\n",
    "def testDx(x, y):\n",
    "    return 2*x\n",
    "\n",
    "def testDy(x, y):\n",
    "    return 2*y\n",
    "\n",
    "from mpl_toolkits import mplot3d\n",
    "\n",
    "def uga(angle1=60, angle2=35):\n",
    "    ax = plt.axes(projection='3d')\n",
    "\n",
    "    # Data for a three-dimensional line\n",
    "    x = np.linspace(-10, 10, 10)\n",
    "    y = np.linspace(-10, 10, 10)\n",
    "\n",
    "    X, Y = np.meshgrid(x, y)\n",
    "    Z = test(X, Y)\n",
    "\n",
    "    fig = plt.figure()\n",
    "    ax.plot_wireframe(X, Y, Z, color='blue')\n",
    "    ax.plot_surface(X, Y, Z, rstride=20, cstride=20, cmap='viridis', edgecolor='none')\n",
    "    \n",
    "    # Set the perspective projections\n",
    "    ax.set_proj_type('persp')  # FOV = 90 deg\n",
    "    ax.set_title(\"'persp'\\nfocal_length = 0.2 (default)\", fontsize=10)\n",
    "    \n",
    "    ax.view_init(angle1, angle2)\n",
    "    ax.set_xlabel('x')\n",
    "    ax.set_ylabel('y')\n",
    "    ax.set_zlabel('z');\n",
    "    ax.set_title('wireframe');\n"
   ]
  },
  {
   "cell_type": "code",
   "execution_count": 9,
   "metadata": {},
   "outputs": [
    {
     "data": {
      "application/vnd.jupyter.widget-view+json": {
       "model_id": "3ef6edb7fcdf44fca5b40585f30e453f",
       "version_major": 2,
       "version_minor": 0
      },
      "text/plain": [
       "interactive(children=(FloatSlider(value=60.0, description='angle1', max=180.0, step=1e-05), FloatSlider(value=…"
      ]
     },
     "metadata": {},
     "output_type": "display_data"
    },
    {
     "data": {
      "text/plain": [
       "<function __main__.uga(angle1=60, angle2=35)>"
      ]
     },
     "execution_count": 9,
     "metadata": {},
     "output_type": "execute_result"
    }
   ],
   "source": [
    "interact(uga, angle1=(0, 180.0, 0.00001), angle2=(0, 180.0, 0.00001))"
   ]
  },
  {
   "cell_type": "code",
   "execution_count": null,
   "metadata": {},
   "outputs": [],
   "source": []
  },
  {
   "cell_type": "code",
   "execution_count": null,
   "metadata": {},
   "outputs": [],
   "source": []
  },
  {
   "cell_type": "code",
   "execution_count": null,
   "metadata": {},
   "outputs": [],
   "source": []
  }
 ],
 "metadata": {
  "kernelspec": {
   "display_name": "Python 3 (ipykernel)",
   "language": "python",
   "name": "python3"
  },
  "language_info": {
   "codemirror_mode": {
    "name": "ipython",
    "version": 3
   },
   "file_extension": ".py",
   "mimetype": "text/x-python",
   "name": "python",
   "nbconvert_exporter": "python",
   "pygments_lexer": "ipython3",
   "version": "3.11.2"
  },
  "widgets": {
   "application/vnd.jupyter.widget-state+json": {
    "state": {
     "05078706425e49e7ba7d676b6da013fa": {
      "model_module": "@jupyter-widgets/output",
      "model_module_version": "1.0.0",
      "model_name": "OutputModel",
      "state": {
       "layout": "IPY_MODEL_6d9bd036a1ee4521abbaa9d7f33b97f9",
       "outputs": [
        {
         "data": {
          "image/png": "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",
          "text/plain": "<Figure size 500x500 with 1 Axes>"
         },
         "metadata": {},
         "output_type": "display_data"
        }
       ]
      }
     },
     "08f2a1efcc554064af4d40b68911b587": {
      "model_module": "@jupyter-widgets/base",
      "model_module_version": "2.0.0",
      "model_name": "LayoutModel",
      "state": {}
     },
     "0f7f9fc381aa4fb0a6fcc934b9d6b446": {
      "model_module": "@jupyter-widgets/controls",
      "model_module_version": "2.0.0",
      "model_name": "SliderStyleModel",
      "state": {
       "description_width": ""
      }
     },
     "13ef6720c7a54228b2997e310008368a": {
      "model_module": "@jupyter-widgets/controls",
      "model_module_version": "2.0.0",
      "model_name": "IntSliderModel",
      "state": {
       "behavior": "drag-tap",
       "description": "resolution",
       "layout": "IPY_MODEL_08f2a1efcc554064af4d40b68911b587",
       "max": 300,
       "min": -100,
       "style": "IPY_MODEL_922c84e2b8ac45708dab29889e5c8fe1",
       "value": 100
      }
     },
     "19435cd0414e41629a71f242f140ca4a": {
      "model_module": "@jupyter-widgets/output",
      "model_module_version": "1.0.0",
      "model_name": "OutputModel",
      "state": {
       "layout": "IPY_MODEL_7140ad6e5e334f69a730ca3d7e993cbb",
       "outputs": [
        {
         "data": {
          "image/png": "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",
          "text/plain": "<Figure size 500x500 with 1 Axes>"
         },
         "metadata": {},
         "output_type": "display_data"
        },
        {
         "data": {
          "text/plain": "<Figure size 500x500 with 0 Axes>"
         },
         "metadata": {},
         "output_type": "display_data"
        }
       ]
      }
     },
     "271108e63db7473bb98680b7fe4fc61a": {
      "model_module": "@jupyter-widgets/controls",
      "model_module_version": "2.0.0",
      "model_name": "FloatSliderModel",
      "state": {
       "behavior": "drag-tap",
       "description": "angle2",
       "layout": "IPY_MODEL_6129de94206e43609adbbbfbfefa5fe6",
       "max": 180,
       "step": 1e-05,
       "style": "IPY_MODEL_c6476eca408249ab8c3913b50508decd",
       "value": 35.00000000000001
      }
     },
     "2e4c38b488834557839393cf7d5bd5cf": {
      "model_module": "@jupyter-widgets/controls",
      "model_module_version": "2.0.0",
      "model_name": "FloatSliderModel",
      "state": {
       "behavior": "drag-tap",
       "description": "x",
       "layout": "IPY_MODEL_e492f0dd4b914794b815b36a8105a0a2",
       "max": 10,
       "min": -10,
       "step": 1e-05,
       "style": "IPY_MODEL_fdf9cab1543d4f4caec6eb3dc1ee9a56",
       "value": -1.93548
      }
     },
     "3c7d7758da004ddea37884306ee21906": {
      "model_module": "@jupyter-widgets/controls",
      "model_module_version": "2.0.0",
      "model_name": "IntSliderModel",
      "state": {
       "behavior": "drag-tap",
       "description": "upperBound",
       "layout": "IPY_MODEL_70f72ca7a40f40d99f0e43a5dd1ad2f1",
       "max": 30,
       "min": -10,
       "style": "IPY_MODEL_cb576601e8144475b4d543946263a8cb",
       "value": 10
      }
     },
     "3ef6edb7fcdf44fca5b40585f30e453f": {
      "model_module": "@jupyter-widgets/controls",
      "model_module_version": "2.0.0",
      "model_name": "VBoxModel",
      "state": {
       "_dom_classes": [
        "widget-interact"
       ],
       "children": [
        "IPY_MODEL_711751ff422e4ebfbe24e12ee0d706b4",
        "IPY_MODEL_271108e63db7473bb98680b7fe4fc61a",
        "IPY_MODEL_19435cd0414e41629a71f242f140ca4a"
       ],
       "layout": "IPY_MODEL_d975d87baa4e4874a966c8f91389d6f3"
      }
     },
     "4de37df20173443ea32073123d6451f0": {
      "model_module": "@jupyter-widgets/base",
      "model_module_version": "2.0.0",
      "model_name": "LayoutModel",
      "state": {}
     },
     "5c641e676fa04b12b9a3f23133790972": {
      "model_module": "@jupyter-widgets/base",
      "model_module_version": "2.0.0",
      "model_name": "LayoutModel",
      "state": {}
     },
     "6129de94206e43609adbbbfbfefa5fe6": {
      "model_module": "@jupyter-widgets/base",
      "model_module_version": "2.0.0",
      "model_name": "LayoutModel",
      "state": {}
     },
     "6d9bd036a1ee4521abbaa9d7f33b97f9": {
      "model_module": "@jupyter-widgets/base",
      "model_module_version": "2.0.0",
      "model_name": "LayoutModel",
      "state": {}
     },
     "70f72ca7a40f40d99f0e43a5dd1ad2f1": {
      "model_module": "@jupyter-widgets/base",
      "model_module_version": "2.0.0",
      "model_name": "LayoutModel",
      "state": {}
     },
     "711751ff422e4ebfbe24e12ee0d706b4": {
      "model_module": "@jupyter-widgets/controls",
      "model_module_version": "2.0.0",
      "model_name": "FloatSliderModel",
      "state": {
       "behavior": "drag-tap",
       "description": "angle1",
       "layout": "IPY_MODEL_5c641e676fa04b12b9a3f23133790972",
       "max": 180,
       "step": 1e-05,
       "style": "IPY_MODEL_0f7f9fc381aa4fb0a6fcc934b9d6b446",
       "value": 60
      }
     },
     "7140ad6e5e334f69a730ca3d7e993cbb": {
      "model_module": "@jupyter-widgets/base",
      "model_module_version": "2.0.0",
      "model_name": "LayoutModel",
      "state": {}
     },
     "7d1c7e49969f4c7488c605ece7e3bcbe": {
      "model_module": "@jupyter-widgets/controls",
      "model_module_version": "2.0.0",
      "model_name": "SliderStyleModel",
      "state": {
       "description_width": ""
      }
     },
     "922c84e2b8ac45708dab29889e5c8fe1": {
      "model_module": "@jupyter-widgets/controls",
      "model_module_version": "2.0.0",
      "model_name": "SliderStyleModel",
      "state": {
       "description_width": ""
      }
     },
     "acdde980b0fe42c396042dcc9b0f4dcb": {
      "model_module": "@jupyter-widgets/base",
      "model_module_version": "2.0.0",
      "model_name": "LayoutModel",
      "state": {}
     },
     "ad656094dea34599a645a51e370f3217": {
      "model_module": "@jupyter-widgets/controls",
      "model_module_version": "2.0.0",
      "model_name": "IntSliderModel",
      "state": {
       "behavior": "drag-tap",
       "description": "lowerBound",
       "layout": "IPY_MODEL_4de37df20173443ea32073123d6451f0",
       "max": 10,
       "min": -30,
       "style": "IPY_MODEL_7d1c7e49969f4c7488c605ece7e3bcbe",
       "value": -10
      }
     },
     "be73fe2cee074939828d7aef158d2b83": {
      "model_module": "@jupyter-widgets/controls",
      "model_module_version": "2.0.0",
      "model_name": "DropdownModel",
      "state": {
       "_options_labels": [
        "sigmoid",
        "step",
        "relu",
        "hiperbolic tangent",
        "softplus",
        "leaky relu",
        "silu",
        "Not an activation function"
       ],
       "description": "func",
       "index": 0,
       "layout": "IPY_MODEL_acdde980b0fe42c396042dcc9b0f4dcb",
       "style": "IPY_MODEL_e6bab8b72acd4c73a9e5adc1347a075d"
      }
     },
     "c6476eca408249ab8c3913b50508decd": {
      "model_module": "@jupyter-widgets/controls",
      "model_module_version": "2.0.0",
      "model_name": "SliderStyleModel",
      "state": {
       "description_width": ""
      }
     },
     "cb576601e8144475b4d543946263a8cb": {
      "model_module": "@jupyter-widgets/controls",
      "model_module_version": "2.0.0",
      "model_name": "SliderStyleModel",
      "state": {
       "description_width": ""
      }
     },
     "d6dc769fe5b94819a5abfb440f1808df": {
      "model_module": "@jupyter-widgets/controls",
      "model_module_version": "2.0.0",
      "model_name": "VBoxModel",
      "state": {
       "_dom_classes": [
        "widget-interact"
       ],
       "children": [
        "IPY_MODEL_2e4c38b488834557839393cf7d5bd5cf",
        "IPY_MODEL_ad656094dea34599a645a51e370f3217",
        "IPY_MODEL_3c7d7758da004ddea37884306ee21906",
        "IPY_MODEL_13ef6720c7a54228b2997e310008368a",
        "IPY_MODEL_be73fe2cee074939828d7aef158d2b83",
        "IPY_MODEL_05078706425e49e7ba7d676b6da013fa"
       ],
       "layout": "IPY_MODEL_d7848cea0ca54cd4b2d5254d05191e22"
      }
     },
     "d7848cea0ca54cd4b2d5254d05191e22": {
      "model_module": "@jupyter-widgets/base",
      "model_module_version": "2.0.0",
      "model_name": "LayoutModel",
      "state": {}
     },
     "d975d87baa4e4874a966c8f91389d6f3": {
      "model_module": "@jupyter-widgets/base",
      "model_module_version": "2.0.0",
      "model_name": "LayoutModel",
      "state": {}
     },
     "e492f0dd4b914794b815b36a8105a0a2": {
      "model_module": "@jupyter-widgets/base",
      "model_module_version": "2.0.0",
      "model_name": "LayoutModel",
      "state": {}
     },
     "e6bab8b72acd4c73a9e5adc1347a075d": {
      "model_module": "@jupyter-widgets/controls",
      "model_module_version": "2.0.0",
      "model_name": "DescriptionStyleModel",
      "state": {
       "description_width": ""
      }
     },
     "fdf9cab1543d4f4caec6eb3dc1ee9a56": {
      "model_module": "@jupyter-widgets/controls",
      "model_module_version": "2.0.0",
      "model_name": "SliderStyleModel",
      "state": {
       "description_width": ""
      }
     }
    },
    "version_major": 2,
    "version_minor": 0
   }
  }
 },
 "nbformat": 4,
 "nbformat_minor": 4
}
