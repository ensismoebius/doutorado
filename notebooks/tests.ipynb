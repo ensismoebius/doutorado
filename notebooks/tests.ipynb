{
 "cells": [
  {
   "cell_type": "code",
   "execution_count": 1,
   "id": "47159dfd-a217-4d97-8b05-682e39d7af44",
   "metadata": {},
   "outputs": [],
   "source": [
    "import sympy as sp\n",
    "import os # Enables Operational System integration\n",
    "import math # Some math stuff\n",
    "import numpy as np # Enables more advanced math tricks and simplify array manipulations\n",
    "from ipywidgets import interact # Enables interaction\n",
    "import matplotlib.pyplot as plt # Enables the ploting"
   ]
  },
  {
   "cell_type": "code",
   "execution_count": 2,
   "id": "6eb467a2-e71a-4079-8fde-316cd0c45b74",
   "metadata": {},
   "outputs": [],
   "source": [
    "%matplotlib inline"
   ]
  },
  {
   "cell_type": "code",
   "execution_count": 3,
   "id": "447fbfaa-4e50-4381-89ac-625f155a24b8",
   "metadata": {},
   "outputs": [],
   "source": [
    "a = np.zeros( [3,2] )\n",
    "a[0,0] = 1\n",
    "a[0,1] = 2\n",
    "a[1,0] = 9\n",
    "a[2,1] = 12"
   ]
  },
  {
   "cell_type": "code",
   "execution_count": 4,
   "id": "bf77d820-8ef2-4997-8cc0-1d312d3addee",
   "metadata": {},
   "outputs": [
    {
     "data": {
      "text/plain": [
       "<matplotlib.image.AxesImage at 0x10d21a9d0>"
      ]
     },
     "execution_count": 4,
     "metadata": {},
     "output_type": "execute_result"
    },
    {
     "data": {
      "image/png": "[encoded data removed]",
      "text/plain": [
       "<Figure size 432x288 with 1 Axes>"
      ]
     },
     "metadata": {
      "needs_background": "light"
     },
     "output_type": "display_data"
    }
   ],
   "source": [
    "plt.imshow(a, interpolation=\"nearest\")"
   ]
  },
  {
   "cell_type": "code",
   "execution_count": 5,
   "id": "e5afefbe-1ae5-48b7-b52d-be868dbac833",
   "metadata": {},
   "outputs": [
    {
     "data": {
      "application/vnd.jupyter.widget-view+json": {
       "model_id": "0a6df8a6439c4430bed55a40b5202397",
       "version_major": 2,
       "version_minor": 0
      },
      "text/plain": [
       "interactive(children=(FloatSlider(value=0.0, description='w_1', max=1.0, step=1e-05), FloatSlider(value=0.0, d…"
      ]
     },
     "metadata": {},
     "output_type": "display_data"
    },
    {
     "data": {
      "text/plain": [
       "<function __main__.plot(w_1, w_2)>"
      ]
     },
     "execution_count": 5,
     "metadata": {},
     "output_type": "execute_result"
    }
   ],
   "source": [
    "def sigmoid(x):\n",
    "    return 1.0/(1.0 + math.e**(-x))\n",
    "\n",
    "def sigmoidD(x):\n",
    "    y = sigmoid(x)\n",
    "    return y * (1.0 - y)\n",
    "\n",
    "def activate(w_1, w_2):\n",
    "    input_1 = np.linspace(-50, 100, 100) # Define the range of the plot\n",
    "    input_2 = np.linspace(-100, 5, 100) # Define the range of the plot\n",
    "\n",
    "    zValue = input_1 * w_1 + input_2 * w_2\n",
    "    output = sigmoid(zValue)\n",
    "    return output\n",
    "\n",
    "def plot(w_1, w_2):\n",
    "    xrange = np.linspace(-10, 10, 100) # Define the range of the plot\n",
    "    plt.plot(xrange, sigmoid(xrange))\n",
    "    plt.plot(xrange, sigmoidD(xrange))\n",
    "    plt.plot(xrange, activate(w_1, w_2))\n",
    "    \n",
    "\n",
    "interact(plot, w_1=(0, 1, 0.00001), w_2=(0, 1, 0.00001))"
   ]
  }
 ],
 "metadata": {
  "kernelspec": {
   "display_name": "Python 3 (ipykernel)",
   "language": "python",
   "name": "python3"
  },
  "language_info": {
   "codemirror_mode": {
    "name": "ipython",
    "version": 3
   },
   "file_extension": ".py",
   "mimetype": "text/x-python",
   "name": "python",
   "nbconvert_exporter": "python",
   "pygments_lexer": "ipython3",
   "version": "3.11.2"
  },
  "widgets": {
   "application/vnd.jupyter.widget-state+json": {
    "state": {},
    "version_major": 2,
    "version_minor": 0
   }
  }
 },
 "nbformat": 4,
 "nbformat_minor": 5
}
