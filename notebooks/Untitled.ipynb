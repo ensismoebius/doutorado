{
 "cells": [
  {
   "cell_type": "code",
   "execution_count": 1,
   "id": "7694afa1-b7da-4909-b55c-fcd665ef7925",
   "metadata": {},
   "outputs": [],
   "source": [
    "import os # Enables Operational System integration\n",
    "import numpy as np # Enables more advanced math tricks\n",
    "from ipywidgets import interact # Enables interaction\n",
    "import matplotlib.pyplot as plt # Enables the ploting\n",
    "# Enables interactivity\n",
    "%matplotlib inline"
   ]
  },
  {
   "cell_type": "code",
   "execution_count": null,
   "id": "52df6833-5301-491f-a992-94f669cffa66",
   "metadata": {},
   "outputs": [],
   "source": []
  }
 ],
 "metadata": {
  "kernelspec": {
   "display_name": "Python 3 (ipykernel)",
   "language": "python",
   "name": "python3"
  },
  "language_info": {
   "codemirror_mode": {
    "name": "ipython",
    "version": 3
   },
   "file_extension": ".py",
   "mimetype": "text/x-python",
   "name": "python",
   "nbconvert_exporter": "python",
   "pygments_lexer": "ipython3",
   "version": "3.9.14"
  }
 },
 "nbformat": 4,
 "nbformat_minor": 5
}
