{
 "cells": [
  {
   "cell_type": "code",
   "execution_count": 1,
   "id": "37353bba-123a-4ef6-9f78-2e6ff8db20ee",
   "metadata": {},
   "outputs": [],
   "source": [
    "import os # Enables Operational System integration\n",
    "import math # Some math stuff\n",
    "import numpy as np # Enables more advanced math tricks and simplify array manipulations\n",
    "from ipywidgets import interact # Enables interaction\n",
    "import matplotlib.pyplot as plt # Enables the ploting"
   ]
  },
  {
   "cell_type": "code",
   "execution_count": 2,
   "id": "c08f4996-0954-4d0f-95ab-9b737468789b",
   "metadata": {},
   "outputs": [],
   "source": [
    "############# Sigmoid ############\n",
    "def sigmoid(x):\n",
    "    return 1.0/(1.0 + math.e**(-x))\n",
    "\n",
    "def sigmoidD(x): \n",
    "    y = sigmoid(x)\n",
    "    return y * (1.0 - y)\n"
   ]
  },
  {
   "cell_type": "code",
   "execution_count": 3,
   "id": "07a75689-b6d9-4114-a372-066f5cfad8c4",
   "metadata": {},
   "outputs": [],
   "source": [
    "w1 = 0.5"
   ]
  },
  {
   "cell_type": "code",
   "execution_count": 4,
   "id": "bf4040ea-2b04-4bba-8b32-8d2986976764",
   "metadata": {},
   "outputs": [],
   "source": [
    "w2 = 0.5"
   ]
  },
  {
   "cell_type": "code",
   "execution_count": 5,
   "id": "60558bee-64d7-4efd-8d85-7f390b96515b",
   "metadata": {},
   "outputs": [],
   "source": [
    "input1 = 1"
   ]
  },
  {
   "cell_type": "code",
   "execution_count": 6,
   "id": "abf8a861-948e-4355-8b76-e3580a6c1b87",
   "metadata": {},
   "outputs": [],
   "source": [
    "input2 = 0"
   ]
  },
  {
   "cell_type": "code",
   "execution_count": 7,
   "id": "47ede146-468e-4f0a-a646-4de7ebedfcac",
   "metadata": {},
   "outputs": [],
   "source": [
    "target = 1"
   ]
  },
  {
   "cell_type": "code",
   "execution_count": 8,
   "id": "dd1ba786-e64e-44c9-b271-e972c18318e5",
   "metadata": {},
   "outputs": [],
   "source": [
    "sum = input1 * w1 + input2 * w2"
   ]
  },
  {
   "cell_type": "code",
   "execution_count": 9,
   "id": "b29af1c5-7f88-49c2-aea5-7731faa06d51",
   "metadata": {},
   "outputs": [],
   "source": [
    "output = sigmoid(sum)"
   ]
  },
  {
   "cell_type": "code",
   "execution_count": 10,
   "id": "2fabee95-70a4-48ee-9bc5-8e7ea2bfdd82",
   "metadata": {},
   "outputs": [],
   "source": [
    "error = output - target"
   ]
  },
  {
   "cell_type": "code",
   "execution_count": 11,
   "id": "898842fa-c300-44f9-9e0c-789e37620dd1",
   "metadata": {},
   "outputs": [],
   "source": [
    "w1 = w1 - 0.1 * error * sigmoidD(sum) * input1"
   ]
  },
  {
   "cell_type": "code",
   "execution_count": 12,
   "id": "377e14a1-1e85-4b06-8c06-2dd5b957e23d",
   "metadata": {},
   "outputs": [],
   "source": [
    "w2 = w2 - 0.1 * error * sigmoidD(sum) * input2"
   ]
  },
  {
   "cell_type": "code",
   "execution_count": 13,
   "id": "95d2138b-2bf3-43f8-9fba-6f55adebe849",
   "metadata": {},
   "outputs": [
    {
     "data": {
      "text/plain": [
       "0.5088723458674637"
      ]
     },
     "execution_count": 13,
     "metadata": {},
     "output_type": "execute_result"
    }
   ],
   "source": [
    "w1"
   ]
  },
  {
   "cell_type": "code",
   "execution_count": 14,
   "id": "46e5ebf1-1892-45a6-9b81-2132054d3d6a",
   "metadata": {},
   "outputs": [
    {
     "data": {
      "text/plain": [
       "0.5"
      ]
     },
     "execution_count": 14,
     "metadata": {},
     "output_type": "execute_result"
    }
   ],
   "source": [
    "w2"
   ]
  }
 ],
 "metadata": {
  "kernelspec": {
   "display_name": "Python 3 (ipykernel)",
   "language": "python",
   "name": "python3"
  },
  "language_info": {
   "codemirror_mode": {
    "name": "ipython",
    "version": 3
   },
   "file_extension": ".py",
   "mimetype": "text/x-python",
   "name": "python",
   "nbconvert_exporter": "python",
   "pygments_lexer": "ipython3",
   "version": "3.11.2"
  },
  "widgets": {
   "application/vnd.jupyter.widget-state+json": {
    "state": {},
    "version_major": 2,
    "version_minor": 0
   }
  }
 },
 "nbformat": 4,
 "nbformat_minor": 5
}
