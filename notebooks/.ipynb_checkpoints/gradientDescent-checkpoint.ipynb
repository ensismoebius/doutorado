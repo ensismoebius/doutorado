{
 "cells": [
  {
   "cell_type": "code",
   "execution_count": 1,
   "id": "37353bba-123a-4ef6-9f78-2e6ff8db20ee",
   "metadata": {},
   "outputs": [],
   "source": [
    "import os # Enables Operational System integration\n",
    "import math # Some math stuff\n",
    "import numpy as np # Enables more advanced math tricks and simplify array manipulations\n",
    "from ipywidgets import interact # Enables interaction\n",
    "import matplotlib.pyplot as plt # Enables the ploting"
   ]
  },
  {
   "cell_type": "code",
   "execution_count": 2,
   "id": "c08f4996-0954-4d0f-95ab-9b737468789b",
   "metadata": {},
   "outputs": [],
   "source": [
    "############# Sigmoid ############\n",
    "def sigmoid(x):\n",
    "    return 1.0/(1.0 + math.e**(-x))\n",
    "\n",
    "def sigmoidD(x): \n",
    "    y = sigmoid(x)\n",
    "    return y * (1.0 - y)\n"
   ]
  },
  {
   "cell_type": "code",
   "execution_count": null,
   "id": "07a75689-b6d9-4114-a372-066f5cfad8c4",
   "metadata": {},
   "outputs": [],
   "source": []
  },
  {
   "cell_type": "code",
   "execution_count": 3,
   "id": "bf4040ea-2b04-4bba-8b32-8d2986976764",
   "metadata": {},
   "outputs": [],
   "source": [
    "w1 = 0.5\n",
    "w2 = 0.5"
   ]
  },
  {
   "cell_type": "code",
   "execution_count": 4,
   "id": "60558bee-64d7-4efd-8d85-7f390b96515b",
   "metadata": {},
   "outputs": [],
   "source": [
    "input1 = 1"
   ]
  },
  {
   "cell_type": "code",
   "execution_count": 5,
   "id": "abf8a861-948e-4355-8b76-e3580a6c1b87",
   "metadata": {},
   "outputs": [],
   "source": [
    "input2 = 0"
   ]
  },
  {
   "cell_type": "code",
   "execution_count": 6,
   "id": "47ede146-468e-4f0a-a646-4de7ebedfcac",
   "metadata": {},
   "outputs": [],
   "source": [
    "target = 1"
   ]
  },
  {
   "cell_type": "code",
   "execution_count": 26,
   "id": "b29af1c5-7f88-49c2-aea5-7731faa06d51",
   "metadata": {},
   "outputs": [],
   "source": [
    "def train0():\n",
    "    global w1, w2\n",
    "    sum = input1 * w1 + input2 * w2\n",
    "    output = sigmoid(sum)\n",
    "    error = output - target\n",
    "    w1 = w1 - 0.3 * error * sigmoidD(sum) * input1\n",
    "    w2 = w2 - 0.3 * error * sigmoidD(sum) * input2\n",
    "\n",
    "    \n",
    "def train1():\n",
    "    global w1, w2\n",
    "    sum = input1 * w1 + input2 * w2\n",
    "    output = sigmoid(sum)\n",
    "    error = output - target\n",
    "    w1 = w1 - 0.1 * error * sigmoidD(sum) * input1\n",
    "    w2 = w2 - 0.1 * error * sigmoidD(sum) * input2\n",
    "    display(error)\n"
   ]
  },
  {
   "cell_type": "code",
   "execution_count": 47,
   "id": "d4ec43a6-07d6-4a89-a40c-dc68a5ed38c3",
   "metadata": {},
   "outputs": [
    {
     "data": {
      "text/plain": [
       "-9.206584040333254e-05"
      ]
     },
     "metadata": {},
     "output_type": "display_data"
    }
   ],
   "source": [
    "for i in range(100000000):\n",
    "    train0()\n",
    "\n",
    "train1()"
   ]
  },
  {
   "cell_type": "code",
   "execution_count": 43,
   "id": "4d708a53-7510-424d-9e24-1d0c83c21b1d",
   "metadata": {},
   "outputs": [
    {
     "data": {
      "text/plain": [
       "0.5"
      ]
     },
     "execution_count": 43,
     "metadata": {},
     "output_type": "execute_result"
    }
   ],
   "source": [
    "w2"
   ]
  },
  {
   "cell_type": "code",
   "execution_count": 44,
   "id": "115daabb-7602-425d-990a-14acd713ba45",
   "metadata": {},
   "outputs": [
    {
     "data": {
      "text/plain": [
       "8.883172382948592"
      ]
     },
     "execution_count": 44,
     "metadata": {},
     "output_type": "execute_result"
    }
   ],
   "source": [
    "w1"
   ]
  },
  {
   "cell_type": "code",
   "execution_count": 45,
   "id": "69073dcc-40eb-4260-a384-b28efc44f10f",
   "metadata": {},
   "outputs": [
    {
     "data": {
      "text/plain": [
       "0.9998613157895597"
      ]
     },
     "execution_count": 45,
     "metadata": {},
     "output_type": "execute_result"
    }
   ],
   "source": [
    "sigmoid(input1 * w1 + input2 * w2)"
   ]
  },
  {
   "cell_type": "code",
   "execution_count": null,
   "id": "770c0a10-c802-4683-981e-1bf822fb9b42",
   "metadata": {},
   "outputs": [],
   "source": []
  }
 ],
 "metadata": {
  "kernelspec": {
   "display_name": "Python 3 (ipykernel)",
   "language": "python",
   "name": "python3"
  },
  "language_info": {
   "codemirror_mode": {
    "name": "ipython",
    "version": 3
   },
   "file_extension": ".py",
   "mimetype": "text/x-python",
   "name": "python",
   "nbconvert_exporter": "python",
   "pygments_lexer": "ipython3",
   "version": "3.9.14"
  }
 },
 "nbformat": 4,
 "nbformat_minor": 5
}
