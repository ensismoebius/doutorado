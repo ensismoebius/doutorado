{
 "cells": [
  {
   "cell_type": "markdown",
   "metadata": {},
   "source": [
    "# Function derivative interactive notebook\n",
    "This notebook has been designed to demonstrate how the derivative of a function can be ploted in order to show how the slope behave in relation to the increasing or decreasing values of a function.\n",
    "This information is especially useful when one is learning how neural networks works."
   ]
  },
  {
   "cell_type": "code",
   "execution_count": 1,
   "metadata": {},
   "outputs": [],
   "source": [
    "import os # Enables Operational System integration\n",
    "import numpy as np # Enables more advanced math tricks\n",
    "from ipywidgets import interact # Enables interaction\n",
    "import matplotlib.pyplot as plt # Enables the ploting"
   ]
  },
  {
   "cell_type": "code",
   "execution_count": 2,
   "metadata": {},
   "outputs": [],
   "source": [
    "# Enables interactivity\n",
    "%matplotlib inline"
   ]
  },
  {
   "cell_type": "markdown",
   "metadata": {},
   "source": [
    "The code below defines the function that we will be derived. In the context of the neural networks this function is called activation function. The one represented below is there a Relu function, but you can put whatever function you like as long you know its respective derivative."
   ]
  },
  {
   "cell_type": "code",
   "execution_count": 3,
   "metadata": {},
   "outputs": [],
   "source": [
    "# Define the curve function\n",
    "def f(x):\n",
    "    return np.maximum(0,x)"
   ]
  },
  {
   "cell_type": "markdown",
   "metadata": {},
   "source": [
    "The derivative of the function above"
   ]
  },
  {
   "cell_type": "code",
   "execution_count": 4,
   "metadata": {},
   "outputs": [],
   "source": [
    "# Define the slope (derivative)\n",
    "def slope(x): \n",
    "    if x > 0:\n",
    "        return 1.0\n",
    "    else:\n",
    "        return 0.0"
   ]
  },
  {
   "cell_type": "markdown",
   "metadata": {},
   "source": [
    "This function is responsible for drawing the tangent line in a given point"
   ]
  },
  {
   "cell_type": "code",
   "execution_count": 5,
   "metadata": {},
   "outputs": [],
   "source": [
    "# Define tangent line\n",
    "# y = m*(x - x1) + y1\n",
    "def line(xrange, x, y):\n",
    "    return slope(x)*(xrange - x) + y"
   ]
  },
  {
   "cell_type": "markdown",
   "metadata": {},
   "source": [
    "This one is responsible for puting the things together, ie plot all lines and curves and labels we need to see."
   ]
  },
  {
   "cell_type": "code",
   "execution_count": 6,
   "metadata": {},
   "outputs": [],
   "source": [
    "# Used to redraw the plot\n",
    "def plotGraph(x=0, lowerBound = -10, upperBound = 10, resolution=100):\n",
    "    # Choose point to plot tangent line\n",
    "    y = f(x)\n",
    "\n",
    "    # Define x data range\n",
    "    xrange = np.linspace(lowerBound, upperBound, resolution)\n",
    "\n",
    "    # Plot the curve\n",
    "    plt.figure()\n",
    "    plt.plot(xrange, f(xrange))\n",
    "    \n",
    "    # Redefine x data range for tangent line\n",
    "    xrange = np.linspace(x-3, x+3, 10)\n",
    "    \n",
    "    # Plot the tangent line\n",
    "    plt.plot(xrange, line(xrange, x, y), 'C1--', linewidth = 2)\n",
    "    \n",
    "    # Plot the vertical line, dot and label\n",
    "    plt.axvline(x, color = 'c')\n",
    "    plt.scatter(x, y, color='C1', s=50)\n",
    "    plt.annotate('{:04.2f},{:04.2f} -> slope: {:04.2f}'.format(x,y, slope(x)), (x, y))"
   ]
  },
  {
   "cell_type": "markdown",
   "metadata": {},
   "source": [
    "Finally, this one enables the interaction"
   ]
  },
  {
   "cell_type": "code",
   "execution_count": 7,
   "metadata": {},
   "outputs": [
    {
     "data": {
      "application/vnd.jupyter.widget-view+json": {
       "model_id": "7a44492ff45f4d489a608b51c6f4af0e",
       "version_major": 2,
       "version_minor": 0
      },
      "text/plain": [
       "interactive(children=(FloatSlider(value=0.0, description='x', max=10.0, min=-10.0, step=1e-05), IntSlider(valu…"
      ]
     },
     "metadata": {},
     "output_type": "display_data"
    }
   ],
   "source": [
    "interact(plotGraph, x =(-10.0, 10.0, 0.00001));"
   ]
  }
 ],
 "metadata": {
  "kernelspec": {
   "display_name": "Python 3 (ipykernel)",
   "language": "python",
   "name": "python3"
  },
  "language_info": {
   "codemirror_mode": {
    "name": "ipython",
    "version": 3
   },
   "file_extension": ".py",
   "mimetype": "text/x-python",
   "name": "python",
   "nbconvert_exporter": "python",
   "pygments_lexer": "ipython3",
   "version": "3.9.13"
  }
 },
 "nbformat": 4,
 "nbformat_minor": 4
}
